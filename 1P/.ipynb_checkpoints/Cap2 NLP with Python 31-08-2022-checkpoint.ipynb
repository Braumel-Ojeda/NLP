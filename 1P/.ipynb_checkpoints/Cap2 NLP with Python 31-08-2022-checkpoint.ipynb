{
 "cells": [
  {
   "cell_type": "markdown",
   "id": "828be556",
   "metadata": {},
   "source": [
    "# Text Normalization\n",
    "\n",
    "Sacar cadena de texto, tokenizar, limpiar texto de caracteres que no son letras"
   ]
  },
  {
   "cell_type": "code",
   "execution_count": 1,
   "id": "ec9dcea8",
   "metadata": {},
   "outputs": [
    {
     "name": "stderr",
     "output_type": "stream",
     "text": [
      "[nltk_data] Downloading package omw-1.4 to\n",
      "[nltk_data]     C:\\Users\\ADMIN\\AppData\\Roaming\\nltk_data...\n",
      "[nltk_data]   Package omw-1.4 is already up-to-date!\n"
     ]
    },
    {
     "data": {
      "text/plain": [
       "True"
      ]
     },
     "execution_count": 1,
     "metadata": {},
     "output_type": "execute_result"
    }
   ],
   "source": [
    "import nltk\n",
    "nltk.download('omw-1.4')"
   ]
  },
  {
   "cell_type": "code",
   "execution_count": 2,
   "id": "6b8e48b6",
   "metadata": {},
   "outputs": [],
   "source": [
    "from nltk.corpus import wordnet as wn"
   ]
  },
  {
   "cell_type": "code",
   "execution_count": 3,
   "id": "93ba96d5",
   "metadata": {},
   "outputs": [
    {
     "data": {
      "text/plain": [
       "[Synset('computer.n.01'), Synset('calculator.n.01')]"
      ]
     },
     "execution_count": 3,
     "metadata": {},
     "output_type": "execute_result"
    }
   ],
   "source": [
    "wn.synsets('computer')"
   ]
  },
  {
   "cell_type": "code",
   "execution_count": 6,
   "id": "e30bcd77",
   "metadata": {},
   "outputs": [
    {
     "data": {
      "text/plain": [
       "['computer',\n",
       " 'computing_machine',\n",
       " 'computing_device',\n",
       " 'data_processor',\n",
       " 'electronic_computer',\n",
       " 'information_processing_system']"
      ]
     },
     "execution_count": 6,
     "metadata": {},
     "output_type": "execute_result"
    }
   ],
   "source": [
    "wn.synset('computer.n.01').lemma_names()"
   ]
  },
  {
   "cell_type": "code",
   "execution_count": 7,
   "id": "b606e478",
   "metadata": {},
   "outputs": [
    {
     "data": {
      "text/plain": [
       "['calculator', 'reckoner', 'figurer', 'estimator', 'computer']"
      ]
     },
     "execution_count": 7,
     "metadata": {},
     "output_type": "execute_result"
    }
   ],
   "source": [
    "wn.synset('calculator.n.01').lemma_names()"
   ]
  },
  {
   "cell_type": "code",
   "execution_count": 10,
   "id": "fb6eddff",
   "metadata": {},
   "outputs": [],
   "source": [
    "computer = wn.synset('computer.n.01')"
   ]
  },
  {
   "cell_type": "markdown",
   "id": "7cd82027",
   "metadata": {},
   "source": [
    "Los hiperónimos son palabras que engloban algo general"
   ]
  },
  {
   "cell_type": "code",
   "execution_count": 11,
   "id": "e9644c99",
   "metadata": {},
   "outputs": [
    {
     "data": {
      "text/plain": [
       "[Synset('machine.n.01')]"
      ]
     },
     "execution_count": 11,
     "metadata": {},
     "output_type": "execute_result"
    }
   ],
   "source": [
    "computer.hypernyms()"
   ]
  },
  {
   "cell_type": "markdown",
   "id": "84442c0b",
   "metadata": {},
   "source": [
    "Los hipónimos son palabras muy específicas que se desprenden de una cierta palabra"
   ]
  },
  {
   "cell_type": "code",
   "execution_count": 12,
   "id": "87e3ecc5",
   "metadata": {},
   "outputs": [
    {
     "data": {
      "text/plain": [
       "[Synset('analog_computer.n.01'),\n",
       " Synset('digital_computer.n.01'),\n",
       " Synset('home_computer.n.01'),\n",
       " Synset('node.n.08'),\n",
       " Synset('number_cruncher.n.02'),\n",
       " Synset('pari-mutuel_machine.n.01'),\n",
       " Synset('predictor.n.03'),\n",
       " Synset('server.n.03'),\n",
       " Synset('turing_machine.n.01'),\n",
       " Synset('web_site.n.01')]"
      ]
     },
     "execution_count": 12,
     "metadata": {},
     "output_type": "execute_result"
    }
   ],
   "source": [
    "computer.hyponyms()"
   ]
  },
  {
   "cell_type": "markdown",
   "id": "c6a00583",
   "metadata": {},
   "source": [
    "Los merónimos son partes que forman parte de un todo (holónimo)"
   ]
  },
  {
   "cell_type": "code",
   "execution_count": 13,
   "id": "53575e79",
   "metadata": {
    "scrolled": true
   },
   "outputs": [
    {
     "data": {
      "text/plain": [
       "[Synset('busbar.n.01'),\n",
       " Synset('cathode-ray_tube.n.01'),\n",
       " Synset('central_processing_unit.n.01'),\n",
       " Synset('chip.n.07'),\n",
       " Synset('computer_accessory.n.01'),\n",
       " Synset('computer_circuit.n.01'),\n",
       " Synset('data_converter.n.01'),\n",
       " Synset('disk_cache.n.01'),\n",
       " Synset('diskette.n.01'),\n",
       " Synset('hardware.n.03'),\n",
       " Synset('keyboard.n.01'),\n",
       " Synset('memory.n.04'),\n",
       " Synset('monitor.n.04'),\n",
       " Synset('peripheral.n.01')]"
      ]
     },
     "execution_count": 13,
     "metadata": {},
     "output_type": "execute_result"
    }
   ],
   "source": [
    "computer.part_meronyms()"
   ]
  },
  {
   "cell_type": "code",
   "execution_count": 14,
   "id": "b6aa98c6",
   "metadata": {},
   "outputs": [
    {
     "data": {
      "text/plain": [
       "[]"
      ]
     },
     "execution_count": 14,
     "metadata": {},
     "output_type": "execute_result"
    }
   ],
   "source": [
    "computer.member_holonyms()"
   ]
  },
  {
   "cell_type": "code",
   "execution_count": null,
   "id": "3216510f",
   "metadata": {},
   "outputs": [],
   "source": []
  },
  {
   "cell_type": "code",
   "execution_count": null,
   "id": "acdc429d",
   "metadata": {},
   "outputs": [],
   "source": []
  },
  {
   "cell_type": "code",
   "execution_count": null,
   "id": "79d7efcc",
   "metadata": {},
   "outputs": [],
   "source": []
  },
  {
   "cell_type": "code",
   "execution_count": null,
   "id": "ca7ab3c6",
   "metadata": {},
   "outputs": [],
   "source": []
  },
  {
   "cell_type": "code",
   "execution_count": null,
   "id": "b4438597",
   "metadata": {},
   "outputs": [],
   "source": []
  },
  {
   "cell_type": "code",
   "execution_count": null,
   "id": "abd7f094",
   "metadata": {},
   "outputs": [],
   "source": []
  },
  {
   "cell_type": "code",
   "execution_count": null,
   "id": "34cc3043",
   "metadata": {},
   "outputs": [],
   "source": []
  }
 ],
 "metadata": {
  "kernelspec": {
   "display_name": "Python 3 (ipykernel)",
   "language": "python",
   "name": "python3"
  },
  "language_info": {
   "codemirror_mode": {
    "name": "ipython",
    "version": 3
   },
   "file_extension": ".py",
   "mimetype": "text/x-python",
   "name": "python",
   "nbconvert_exporter": "python",
   "pygments_lexer": "ipython3",
   "version": "3.9.12"
  }
 },
 "nbformat": 4,
 "nbformat_minor": 5
}
