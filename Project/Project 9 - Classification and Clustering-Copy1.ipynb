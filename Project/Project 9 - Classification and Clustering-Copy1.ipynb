{
 "cells": [
  {
   "cell_type": "markdown",
   "id": "0f8eb03b",
   "metadata": {},
   "source": [
    "# Preprocessing, Classification and Clustering"
   ]
  },
  {
   "cell_type": "markdown",
   "id": "58c42ab5",
   "metadata": {},
   "source": [
    "On this notebook is developed the preprocessing and the application of classification and clustering algorithms to film reviews."
   ]
  },
  {
   "cell_type": "code",
   "execution_count": 1,
   "id": "0a078a19",
   "metadata": {},
   "outputs": [],
   "source": [
    "import numpy as np\n",
    "import pandas as pd\n",
    "import random\n",
    "import re\n",
    "import nltk\n",
    "from tabulate import tabulate\n",
    "from bs4 import BeautifulSoup as bs"
   ]
  },
  {
   "cell_type": "code",
   "execution_count": 2,
   "id": "dd6de35c",
   "metadata": {},
   "outputs": [],
   "source": [
    "def extract_lines(corpus):\n",
    "    X = list()\n",
    "    y = list()\n",
    "    for i in range(2, 4381):\n",
    "        try:\n",
    "            fname = corpus + str(i) + '.xml'\n",
    "            with open(fname, 'r', encoding = 'latin-1') as rfile:\n",
    "                content = rfile.readlines()\n",
    "                content = \"\".join(content)\n",
    "                bs_content = bs(content, \"lxml\")\n",
    "                review = bs_content.find(\"review\")\n",
    "                rank = review.get(\"rank\")\n",
    "                y.append(int(rank))\n",
    "            \n",
    "            fname = corpus + str(i) + '.review.pos'\n",
    "            with open(fname, 'r', encoding = 'latin-1') as rfile:\n",
    "                content = rfile.readlines()\n",
    "                review_pos_aux = list()\n",
    "                              \n",
    "                for line in content:\n",
    "                    if line != '\\n':\n",
    "                        line_ls = line.split()\n",
    "                        review_pos_aux.append(line_ls[1])\n",
    "                X.append(' '.join(review_pos_aux))\n",
    "            \n",
    "        except IOError:\n",
    "            #print(\"Could not read file:\", fname)\n",
    "            pass\n",
    "    \n",
    "    return X, y"
   ]
  },
  {
   "cell_type": "code",
   "execution_count": 3,
   "id": "5723b20c",
   "metadata": {},
   "outputs": [],
   "source": [
    "def tokenize_lines_by_words(lines):\n",
    "    new_lines = list()\n",
    "    for line in lines:\n",
    "        new_line = line.lower()\n",
    "        new_lines.append(nltk.word_tokenize(new_line))\n",
    "    \n",
    "    return new_lines"
   ]
  },
  {
   "cell_type": "code",
   "execution_count": 4,
   "id": "bef42cf5",
   "metadata": {},
   "outputs": [],
   "source": [
    "def clean_alphabetic_text_lines(lines):\n",
    "    new_lines = list()\n",
    "    for line in lines:\n",
    "        new_line = list()\n",
    "        for word in line:\n",
    "            token = list()\n",
    "            for c in word:\n",
    "                #[a-záéíóúñü+$]\n",
    "                if re.match(r'^[a-záéíóúñü+$]', c):\n",
    "                    token.append(c)\n",
    "            token = ''.join(token)\n",
    "            if token != '':\n",
    "                new_line.append(token)\n",
    "        new_lines.append(new_line)\n",
    "        \n",
    "    return new_lines"
   ]
  },
  {
   "cell_type": "code",
   "execution_count": 5,
   "id": "36823dae",
   "metadata": {},
   "outputs": [],
   "source": [
    "def remove_stop_words(lines):\n",
    "    stopwords = nltk.corpus.stopwords.words('spanish')\n",
    "    clean_lines = list()\n",
    "    for line in lines:\n",
    "        clean_line = list()\n",
    "        for word in line:\n",
    "            if word not in stopwords:\n",
    "                clean_line.append(word)\n",
    "        clean_lines.append(' '.join(clean_line))\n",
    "    \n",
    "    return clean_lines"
   ]
  },
  {
   "cell_type": "code",
   "execution_count": 6,
   "id": "d68270f9",
   "metadata": {},
   "outputs": [],
   "source": [
    "def join_sentence(lines):\n",
    "    clean_lines = list()\n",
    "    for line in lines:\n",
    "        clean_line = list()\n",
    "        for word in line:\n",
    "            clean_line.append(word)\n",
    "        clean_lines.append(' '.join(clean_line))\n",
    "    \n",
    "    return clean_lines"
   ]
  },
  {
   "cell_type": "code",
   "execution_count": 7,
   "id": "56efba2f",
   "metadata": {},
   "outputs": [],
   "source": [
    "def get_X_y(lines):\n",
    "    X = list()\n",
    "    y = list()\n",
    "    for line in lines:\n",
    "        n = len(line)\n",
    "        tag = line.pop(n - 1)\n",
    "        corpus = line\n",
    "        X.append(corpus)\n",
    "        y.append(tag)\n",
    "    return [X, y]"
   ]
  },
  {
   "cell_type": "code",
   "execution_count": 8,
   "id": "8061f320",
   "metadata": {},
   "outputs": [],
   "source": [
    "def transform_tag(y):\n",
    "    new_y = list()\n",
    "    for i in y:\n",
    "        if i == 'spam':\n",
    "            new_i = 1\n",
    "        else:\n",
    "            new_i = 0\n",
    "        new_y.append(new_i)\n",
    "    return np.array(new_y)"
   ]
  },
  {
   "cell_type": "code",
   "execution_count": 9,
   "id": "08d1c1da",
   "metadata": {
    "scrolled": true
   },
   "outputs": [],
   "source": [
    "X, y = extract_lines('./../corpusCriticasCine/corpusCriticasCine/')"
   ]
  },
  {
   "cell_type": "code",
   "execution_count": 10,
   "id": "2c2cb2d5",
   "metadata": {},
   "outputs": [
    {
     "data": {
      "text/plain": [
       "3878"
      ]
     },
     "execution_count": 10,
     "metadata": {},
     "output_type": "execute_result"
    }
   ],
   "source": [
    "len(X)"
   ]
  },
  {
   "cell_type": "code",
   "execution_count": 11,
   "id": "2b8ef0c6",
   "metadata": {},
   "outputs": [
    {
     "data": {
      "text/plain": [
       "3878"
      ]
     },
     "execution_count": 11,
     "metadata": {},
     "output_type": "execute_result"
    }
   ],
   "source": [
    "len(y)"
   ]
  },
  {
   "cell_type": "code",
   "execution_count": null,
   "id": "05d37150",
   "metadata": {},
   "outputs": [],
   "source": []
  },
  {
   "cell_type": "code",
   "execution_count": 12,
   "id": "93773a6a",
   "metadata": {},
   "outputs": [],
   "source": [
    "tokenized_X = tokenize_lines_by_words(X)"
   ]
  },
  {
   "cell_type": "code",
   "execution_count": 13,
   "id": "7952d508",
   "metadata": {},
   "outputs": [],
   "source": [
    "new_X = clean_alphabetic_text_lines(tokenized_X)"
   ]
  },
  {
   "cell_type": "code",
   "execution_count": 14,
   "id": "f549e82f",
   "metadata": {},
   "outputs": [],
   "source": [
    "clean_X = remove_stop_words(new_X)\n",
    "#clean_X = new_X"
   ]
  },
  {
   "cell_type": "code",
   "execution_count": 15,
   "id": "0eff737b",
   "metadata": {},
   "outputs": [],
   "source": [
    "data = list(zip(clean_X, y))"
   ]
  },
  {
   "cell_type": "code",
   "execution_count": 16,
   "id": "833471fe",
   "metadata": {},
   "outputs": [],
   "source": [
    "random.shuffle(data)"
   ]
  },
  {
   "cell_type": "code",
   "execution_count": 17,
   "id": "411298f5",
   "metadata": {},
   "outputs": [],
   "source": [
    "clean_X, y = zip(*data)"
   ]
  },
  {
   "cell_type": "code",
   "execution_count": 18,
   "id": "f72eff5d",
   "metadata": {},
   "outputs": [
    {
     "data": {
      "text/plain": [
       "{1, 2, 3, 4, 5}"
      ]
     },
     "execution_count": 18,
     "metadata": {},
     "output_type": "execute_result"
    }
   ],
   "source": [
    "set(y)"
   ]
  },
  {
   "cell_type": "code",
   "execution_count": 19,
   "id": "e4807eec",
   "metadata": {},
   "outputs": [],
   "source": [
    "from sklearn.feature_extraction.text import CountVectorizer\n",
    "from sklearn.feature_extraction.text import TfidfTransformer\n",
    "from sklearn.model_selection import train_test_split\n",
    "from sklearn import metrics\n",
    "import matplotlib.pyplot as plt"
   ]
  },
  {
   "cell_type": "code",
   "execution_count": 20,
   "id": "c4cf0724",
   "metadata": {},
   "outputs": [],
   "source": [
    "count_vect = CountVectorizer()"
   ]
  },
  {
   "cell_type": "code",
   "execution_count": 21,
   "id": "3a97c222",
   "metadata": {},
   "outputs": [],
   "source": [
    "X_counts = count_vect.fit_transform(np.array(clean_X))"
   ]
  },
  {
   "cell_type": "code",
   "execution_count": 22,
   "id": "0c1edf18",
   "metadata": {},
   "outputs": [],
   "source": [
    "y = np.array(y)"
   ]
  },
  {
   "cell_type": "code",
   "execution_count": 23,
   "id": "0a699409",
   "metadata": {},
   "outputs": [
    {
     "data": {
      "text/plain": [
       "(3878, 44980)"
      ]
     },
     "execution_count": 23,
     "metadata": {},
     "output_type": "execute_result"
    }
   ],
   "source": [
    "X_counts.shape"
   ]
  },
  {
   "cell_type": "code",
   "execution_count": 24,
   "id": "67737608",
   "metadata": {},
   "outputs": [
    {
     "data": {
      "text/plain": [
       "3878"
      ]
     },
     "execution_count": 24,
     "metadata": {},
     "output_type": "execute_result"
    }
   ],
   "source": [
    "len(y)"
   ]
  },
  {
   "cell_type": "code",
   "execution_count": 25,
   "id": "12ebe68d",
   "metadata": {},
   "outputs": [],
   "source": [
    "tfidf_transformer = TfidfTransformer()"
   ]
  },
  {
   "cell_type": "code",
   "execution_count": 26,
   "id": "33c0bd37",
   "metadata": {},
   "outputs": [],
   "source": [
    "X_tfidf = tfidf_transformer.fit_transform(X_counts)"
   ]
  },
  {
   "cell_type": "code",
   "execution_count": 27,
   "id": "98367090",
   "metadata": {},
   "outputs": [],
   "source": [
    "X_train, X_test, y_train, y_test = train_test_split(X_tfidf, y, test_size = 0.1)"
   ]
  },
  {
   "cell_type": "markdown",
   "id": "4aba6f0b",
   "metadata": {},
   "source": [
    "# Linear SVC"
   ]
  },
  {
   "cell_type": "code",
   "execution_count": 28,
   "id": "c4cb5180",
   "metadata": {},
   "outputs": [],
   "source": [
    "from sklearn.svm import LinearSVC"
   ]
  },
  {
   "cell_type": "code",
   "execution_count": 29,
   "id": "f064cefd",
   "metadata": {},
   "outputs": [
    {
     "data": {
      "text/plain": [
       "LinearSVC(C=1)"
      ]
     },
     "execution_count": 29,
     "metadata": {},
     "output_type": "execute_result"
    }
   ],
   "source": [
    "classifier = LinearSVC()\n",
    "classifier.fit(X_train, y_train)\n",
    "LinearSVC(C=1, class_weight=None, dual=True, fit_intercept=True,\n",
    "          intercept_scaling=1, loss='squared_hinge', max_iter=1000,\n",
    "          multi_class='ovr', penalty='l2', random_state=None, tol=0.0001,\n",
    "          verbose=0)"
   ]
  },
  {
   "cell_type": "code",
   "execution_count": 30,
   "id": "3e159b4d",
   "metadata": {},
   "outputs": [],
   "source": [
    "y_pred = classifier.predict(X_test)"
   ]
  },
  {
   "cell_type": "code",
   "execution_count": 31,
   "id": "851e8804",
   "metadata": {},
   "outputs": [
    {
     "data": {
      "text/plain": [
       "0.4845360824742268"
      ]
     },
     "execution_count": 31,
     "metadata": {},
     "output_type": "execute_result"
    }
   ],
   "source": [
    "classifier.score(X_test, y_test)"
   ]
  },
  {
   "cell_type": "code",
   "execution_count": 32,
   "id": "b6095380",
   "metadata": {
    "scrolled": true
   },
   "outputs": [
    {
     "name": "stdout",
     "output_type": "stream",
     "text": [
      "[[ 9 18  7  0  0]\n",
      " [ 6 40 27  5  2]\n",
      " [ 2 23 82 36  3]\n",
      " [ 0  8 26 42 13]\n",
      " [ 0  4  7 13 15]]\n"
     ]
    }
   ],
   "source": [
    "print(metrics.confusion_matrix(y_test, y_pred))"
   ]
  },
  {
   "cell_type": "code",
   "execution_count": 33,
   "id": "4ad66546",
   "metadata": {},
   "outputs": [
    {
     "name": "stdout",
     "output_type": "stream",
     "text": [
      "              precision    recall  f1-score   support\n",
      "\n",
      "           1       0.53      0.26      0.35        34\n",
      "           2       0.43      0.50      0.46        80\n",
      "           3       0.55      0.56      0.56       146\n",
      "           4       0.44      0.47      0.45        89\n",
      "           5       0.45      0.38      0.42        39\n",
      "\n",
      "    accuracy                           0.48       388\n",
      "   macro avg       0.48      0.44      0.45       388\n",
      "weighted avg       0.49      0.48      0.48       388\n",
      "\n"
     ]
    }
   ],
   "source": [
    "print(metrics.classification_report(y_test, y_pred))"
   ]
  },
  {
   "cell_type": "markdown",
   "id": "f6862e63",
   "metadata": {},
   "source": [
    "# Logistic Regression"
   ]
  },
  {
   "cell_type": "code",
   "execution_count": 34,
   "id": "ab780f2c",
   "metadata": {},
   "outputs": [],
   "source": [
    "from sklearn.linear_model import LogisticRegression"
   ]
  },
  {
   "cell_type": "code",
   "execution_count": 35,
   "id": "711bda57",
   "metadata": {},
   "outputs": [
    {
     "data": {
      "text/plain": [
       "LogisticRegression()"
      ]
     },
     "execution_count": 35,
     "metadata": {},
     "output_type": "execute_result"
    }
   ],
   "source": [
    "classifier = LogisticRegression()\n",
    "classifier.fit(X_train, y_train)"
   ]
  },
  {
   "cell_type": "code",
   "execution_count": 36,
   "id": "7600f855",
   "metadata": {},
   "outputs": [],
   "source": [
    "y_pred = classifier.predict(X_test)"
   ]
  },
  {
   "cell_type": "code",
   "execution_count": 37,
   "id": "80d4504c",
   "metadata": {},
   "outputs": [
    {
     "data": {
      "text/plain": [
       "0.4639175257731959"
      ]
     },
     "execution_count": 37,
     "metadata": {},
     "output_type": "execute_result"
    }
   ],
   "source": [
    "classifier.score(X_test, y_test)"
   ]
  },
  {
   "cell_type": "code",
   "execution_count": 38,
   "id": "3b5672df",
   "metadata": {
    "scrolled": true
   },
   "outputs": [
    {
     "name": "stdout",
     "output_type": "stream",
     "text": [
      "[[  3  21  10   0   0]\n",
      " [  0  35  42   3   0]\n",
      " [  0  19 103  23   1]\n",
      " [  0   3  42  39   5]\n",
      " [  0   2  16  21   0]]\n"
     ]
    }
   ],
   "source": [
    "print(metrics.confusion_matrix(y_test, y_pred))"
   ]
  },
  {
   "cell_type": "code",
   "execution_count": 39,
   "id": "79279181",
   "metadata": {},
   "outputs": [
    {
     "name": "stdout",
     "output_type": "stream",
     "text": [
      "              precision    recall  f1-score   support\n",
      "\n",
      "           1       1.00      0.09      0.16        34\n",
      "           2       0.44      0.44      0.44        80\n",
      "           3       0.48      0.71      0.57       146\n",
      "           4       0.45      0.44      0.45        89\n",
      "           5       0.00      0.00      0.00        39\n",
      "\n",
      "    accuracy                           0.46       388\n",
      "   macro avg       0.47      0.33      0.32       388\n",
      "weighted avg       0.46      0.46      0.42       388\n",
      "\n"
     ]
    }
   ],
   "source": [
    "print(metrics.classification_report(y_test, y_pred))"
   ]
  },
  {
   "cell_type": "markdown",
   "id": "6337d8a7",
   "metadata": {},
   "source": [
    "# Multinomial NB"
   ]
  },
  {
   "cell_type": "code",
   "execution_count": 40,
   "id": "1c2bdd8f",
   "metadata": {},
   "outputs": [],
   "source": [
    "from sklearn.naive_bayes import MultinomialNB"
   ]
  },
  {
   "cell_type": "code",
   "execution_count": 41,
   "id": "edc03167",
   "metadata": {},
   "outputs": [],
   "source": [
    "classifier = MultinomialNB()"
   ]
  },
  {
   "cell_type": "code",
   "execution_count": 42,
   "id": "31b071fc",
   "metadata": {
    "scrolled": true
   },
   "outputs": [
    {
     "data": {
      "text/plain": [
       "MultinomialNB()"
      ]
     },
     "execution_count": 42,
     "metadata": {},
     "output_type": "execute_result"
    }
   ],
   "source": [
    "classifier.fit(X_train, y_train)"
   ]
  },
  {
   "cell_type": "code",
   "execution_count": 43,
   "id": "d309b84e",
   "metadata": {},
   "outputs": [],
   "source": [
    "y_pred = classifier.predict(X_test)"
   ]
  },
  {
   "cell_type": "code",
   "execution_count": 44,
   "id": "71e11808",
   "metadata": {},
   "outputs": [
    {
     "data": {
      "text/plain": [
       "0.37628865979381443"
      ]
     },
     "execution_count": 44,
     "metadata": {},
     "output_type": "execute_result"
    }
   ],
   "source": [
    "classifier.score(X_test, y_test)"
   ]
  },
  {
   "cell_type": "code",
   "execution_count": 45,
   "id": "3ca13261",
   "metadata": {
    "scrolled": false
   },
   "outputs": [
    {
     "name": "stdout",
     "output_type": "stream",
     "text": [
      "[[  0   0  34   0   0]\n",
      " [  0   0  80   0   0]\n",
      " [  0   0 146   0   0]\n",
      " [  0   0  89   0   0]\n",
      " [  0   0  39   0   0]]\n"
     ]
    }
   ],
   "source": [
    "print(metrics.confusion_matrix(y_test, y_pred))"
   ]
  },
  {
   "cell_type": "code",
   "execution_count": 46,
   "id": "1901981c",
   "metadata": {},
   "outputs": [
    {
     "name": "stdout",
     "output_type": "stream",
     "text": [
      "              precision    recall  f1-score   support\n",
      "\n",
      "           1       0.00      0.00      0.00        34\n",
      "           2       0.00      0.00      0.00        80\n",
      "           3       0.38      1.00      0.55       146\n",
      "           4       0.00      0.00      0.00        89\n",
      "           5       0.00      0.00      0.00        39\n",
      "\n",
      "    accuracy                           0.38       388\n",
      "   macro avg       0.08      0.20      0.11       388\n",
      "weighted avg       0.14      0.38      0.21       388\n",
      "\n"
     ]
    },
    {
     "name": "stderr",
     "output_type": "stream",
     "text": [
      "C:\\Users\\ADMIN\\anaconda3\\lib\\site-packages\\sklearn\\metrics\\_classification.py:1318: UndefinedMetricWarning: Precision and F-score are ill-defined and being set to 0.0 in labels with no predicted samples. Use `zero_division` parameter to control this behavior.\n",
      "  _warn_prf(average, modifier, msg_start, len(result))\n",
      "C:\\Users\\ADMIN\\anaconda3\\lib\\site-packages\\sklearn\\metrics\\_classification.py:1318: UndefinedMetricWarning: Precision and F-score are ill-defined and being set to 0.0 in labels with no predicted samples. Use `zero_division` parameter to control this behavior.\n",
      "  _warn_prf(average, modifier, msg_start, len(result))\n",
      "C:\\Users\\ADMIN\\anaconda3\\lib\\site-packages\\sklearn\\metrics\\_classification.py:1318: UndefinedMetricWarning: Precision and F-score are ill-defined and being set to 0.0 in labels with no predicted samples. Use `zero_division` parameter to control this behavior.\n",
      "  _warn_prf(average, modifier, msg_start, len(result))\n"
     ]
    }
   ],
   "source": [
    "print(metrics.classification_report(y_test, y_pred))"
   ]
  },
  {
   "cell_type": "markdown",
   "id": "5cceb5e5",
   "metadata": {},
   "source": [
    "## SGDClassifier"
   ]
  },
  {
   "cell_type": "code",
   "execution_count": 47,
   "id": "f7a18608",
   "metadata": {},
   "outputs": [],
   "source": [
    "from sklearn.linear_model import SGDClassifier"
   ]
  },
  {
   "cell_type": "code",
   "execution_count": 48,
   "id": "02daf68e",
   "metadata": {},
   "outputs": [],
   "source": [
    "classifier = SGDClassifier(loss='hinge', penalty='l2', alpha=1e-3, random_state=42, max_iter=10, tol=None)"
   ]
  },
  {
   "cell_type": "code",
   "execution_count": 49,
   "id": "8c2dc730",
   "metadata": {
    "scrolled": true
   },
   "outputs": [
    {
     "data": {
      "text/plain": [
       "SGDClassifier(alpha=0.001, max_iter=10, random_state=42, tol=None)"
      ]
     },
     "execution_count": 49,
     "metadata": {},
     "output_type": "execute_result"
    }
   ],
   "source": [
    "classifier.fit(X_train, y_train)"
   ]
  },
  {
   "cell_type": "code",
   "execution_count": 50,
   "id": "e6cf10ef",
   "metadata": {},
   "outputs": [],
   "source": [
    "y_pred = classifier.predict(X_test)"
   ]
  },
  {
   "cell_type": "code",
   "execution_count": 51,
   "id": "05bc19bb",
   "metadata": {},
   "outputs": [
    {
     "data": {
      "text/plain": [
       "0.46649484536082475"
      ]
     },
     "execution_count": 51,
     "metadata": {},
     "output_type": "execute_result"
    }
   ],
   "source": [
    "classifier.score(X_test, y_test)"
   ]
  },
  {
   "cell_type": "code",
   "execution_count": 52,
   "id": "074bb958",
   "metadata": {
    "scrolled": false
   },
   "outputs": [
    {
     "name": "stdout",
     "output_type": "stream",
     "text": [
      "[[10 15  8  1  0]\n",
      " [ 7 40 27  4  2]\n",
      " [ 2 26 85 29  4]\n",
      " [ 1 11 34 29 14]\n",
      " [ 1  6  6  9 17]]\n"
     ]
    }
   ],
   "source": [
    "print(metrics.confusion_matrix(y_test, y_pred))"
   ]
  },
  {
   "cell_type": "code",
   "execution_count": 53,
   "id": "314a246d",
   "metadata": {},
   "outputs": [
    {
     "name": "stdout",
     "output_type": "stream",
     "text": [
      "              precision    recall  f1-score   support\n",
      "\n",
      "           1       0.48      0.29      0.36        34\n",
      "           2       0.41      0.50      0.45        80\n",
      "           3       0.53      0.58      0.56       146\n",
      "           4       0.40      0.33      0.36        89\n",
      "           5       0.46      0.44      0.45        39\n",
      "\n",
      "    accuracy                           0.47       388\n",
      "   macro avg       0.46      0.43      0.44       388\n",
      "weighted avg       0.46      0.47      0.46       388\n",
      "\n"
     ]
    }
   ],
   "source": [
    "print(metrics.classification_report(y_test, y_pred))"
   ]
  },
  {
   "cell_type": "markdown",
   "id": "7840231a",
   "metadata": {},
   "source": [
    "## KNN"
   ]
  },
  {
   "cell_type": "code",
   "execution_count": 54,
   "id": "b1329e33",
   "metadata": {},
   "outputs": [],
   "source": [
    "from sklearn.neighbors import KNeighborsClassifier"
   ]
  },
  {
   "cell_type": "code",
   "execution_count": 55,
   "id": "d6c22491",
   "metadata": {},
   "outputs": [],
   "source": [
    "classifier = KNeighborsClassifier(n_neighbors = 5)"
   ]
  },
  {
   "cell_type": "code",
   "execution_count": 56,
   "id": "2d4303f8",
   "metadata": {
    "scrolled": true
   },
   "outputs": [
    {
     "data": {
      "text/plain": [
       "KNeighborsClassifier()"
      ]
     },
     "execution_count": 56,
     "metadata": {},
     "output_type": "execute_result"
    }
   ],
   "source": [
    "classifier.fit(X_train, y_train)"
   ]
  },
  {
   "cell_type": "code",
   "execution_count": 57,
   "id": "6ae4815d",
   "metadata": {},
   "outputs": [],
   "source": [
    "y_pred = classifier.predict(X_test)"
   ]
  },
  {
   "cell_type": "code",
   "execution_count": 58,
   "id": "03ce3a62",
   "metadata": {},
   "outputs": [
    {
     "data": {
      "text/plain": [
       "0.39690721649484534"
      ]
     },
     "execution_count": 58,
     "metadata": {},
     "output_type": "execute_result"
    }
   ],
   "source": [
    "classifier.score(X_test, y_test)"
   ]
  },
  {
   "cell_type": "code",
   "execution_count": 59,
   "id": "57037498",
   "metadata": {
    "scrolled": false
   },
   "outputs": [
    {
     "name": "stdout",
     "output_type": "stream",
     "text": [
      "[[ 8 17  5  2  2]\n",
      " [ 8 55 13  1  3]\n",
      " [ 9 59 54 21  3]\n",
      " [ 3 29 24 24  9]\n",
      " [ 3  8  8  7 13]]\n"
     ]
    }
   ],
   "source": [
    "print(metrics.confusion_matrix(y_test, y_pred))"
   ]
  },
  {
   "cell_type": "code",
   "execution_count": 60,
   "id": "96c7054c",
   "metadata": {},
   "outputs": [
    {
     "name": "stdout",
     "output_type": "stream",
     "text": [
      "              precision    recall  f1-score   support\n",
      "\n",
      "           1       0.26      0.24      0.25        34\n",
      "           2       0.33      0.69      0.44        80\n",
      "           3       0.52      0.37      0.43       146\n",
      "           4       0.44      0.27      0.33        89\n",
      "           5       0.43      0.33      0.38        39\n",
      "\n",
      "    accuracy                           0.40       388\n",
      "   macro avg       0.39      0.38      0.37       388\n",
      "weighted avg       0.43      0.40      0.39       388\n",
      "\n"
     ]
    }
   ],
   "source": [
    "print(metrics.classification_report(y_test, y_pred))"
   ]
  },
  {
   "cell_type": "code",
   "execution_count": null,
   "id": "8c2321db",
   "metadata": {},
   "outputs": [],
   "source": []
  }
 ],
 "metadata": {
  "kernelspec": {
   "display_name": "Python 3 (ipykernel)",
   "language": "python",
   "name": "python3"
  },
  "language_info": {
   "codemirror_mode": {
    "name": "ipython",
    "version": 3
   },
   "file_extension": ".py",
   "mimetype": "text/x-python",
   "name": "python",
   "nbconvert_exporter": "python",
   "pygments_lexer": "ipython3",
   "version": "3.9.12"
  }
 },
 "nbformat": 4,
 "nbformat_minor": 5
}
